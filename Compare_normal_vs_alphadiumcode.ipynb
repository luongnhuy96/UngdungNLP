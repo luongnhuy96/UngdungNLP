{
 "cells": [
  {
   "cell_type": "markdown",
   "metadata": {},
   "source": [
    "This code is used to compare normal code i use by practice and a code generating from Alphacodium using flow. The output is the same from both trading stategy and backtest"
   ]
  },
  {
   "cell_type": "code",
   "execution_count": 6,
   "metadata": {},
   "outputs": [],
   "source": [
    "def loaddataYFinance(symbol, from_date, to_date, interval):\n",
    "\n",
    "    import pandas as pd\n",
    "    import yfinance as yf\n",
    "\n",
    "    data = yf.download(symbol, start=from_date, end=to_date, interval=interval)\n",
    "    data.reset_index(inplace=True)\n",
    "    data = data.rename(columns={'Date': 'Datetime'})  \n",
    "        # data = data.drop('Adj Close', axis=1)\n",
    "    data = pd.DataFrame(data, columns=['Datetime', 'Open', 'High', 'Low', 'Close', 'Volume'])\n",
    "\n",
    "    return data"
   ]
  },
  {
   "cell_type": "code",
   "execution_count": 7,
   "metadata": {},
   "outputs": [
    {
     "name": "stdout",
     "output_type": "stream",
     "text": [
      "[*********************100%%**********************]  1 of 1 completed\n"
     ]
    }
   ],
   "source": [
    "symbol = 'VCB.VN'\n",
    "from_date = '2020-10-01'\n",
    "to_date = '2020-12-30'\n",
    "interval = '1d'\n",
    "data = loaddataYFinance(symbol, from_date, to_date, interval)"
   ]
  },
  {
   "cell_type": "code",
   "execution_count": 8,
   "metadata": {},
   "outputs": [
    {
     "data": {
      "text/html": [
       "<div>\n",
       "<style scoped>\n",
       "    .dataframe tbody tr th:only-of-type {\n",
       "        vertical-align: middle;\n",
       "    }\n",
       "\n",
       "    .dataframe tbody tr th {\n",
       "        vertical-align: top;\n",
       "    }\n",
       "\n",
       "    .dataframe thead th {\n",
       "        text-align: right;\n",
       "    }\n",
       "</style>\n",
       "<table border=\"1\" class=\"dataframe\">\n",
       "  <thead>\n",
       "    <tr style=\"text-align: right;\">\n",
       "      <th></th>\n",
       "      <th>Datetime</th>\n",
       "      <th>Open</th>\n",
       "      <th>High</th>\n",
       "      <th>Low</th>\n",
       "      <th>Close</th>\n",
       "      <th>Volume</th>\n",
       "    </tr>\n",
       "  </thead>\n",
       "  <tbody>\n",
       "    <tr>\n",
       "      <th>0</th>\n",
       "      <td>2020-10-01</td>\n",
       "      <td>56471.457031</td>\n",
       "      <td>56471.457031</td>\n",
       "      <td>55874.226562</td>\n",
       "      <td>56272.378906</td>\n",
       "      <td>553097</td>\n",
       "    </tr>\n",
       "    <tr>\n",
       "      <th>1</th>\n",
       "      <td>2020-10-02</td>\n",
       "      <td>56272.378906</td>\n",
       "      <td>56405.097656</td>\n",
       "      <td>53087.152344</td>\n",
       "      <td>55741.507812</td>\n",
       "      <td>1342455</td>\n",
       "    </tr>\n",
       "    <tr>\n",
       "      <th>2</th>\n",
       "      <td>2020-10-05</td>\n",
       "      <td>56073.304688</td>\n",
       "      <td>56405.097656</td>\n",
       "      <td>55343.355469</td>\n",
       "      <td>55409.714844</td>\n",
       "      <td>1318201</td>\n",
       "    </tr>\n",
       "    <tr>\n",
       "      <th>3</th>\n",
       "      <td>2020-10-06</td>\n",
       "      <td>55608.789062</td>\n",
       "      <td>56006.945312</td>\n",
       "      <td>55210.636719</td>\n",
       "      <td>55675.148438</td>\n",
       "      <td>5460016</td>\n",
       "    </tr>\n",
       "    <tr>\n",
       "      <th>4</th>\n",
       "      <td>2020-10-07</td>\n",
       "      <td>55476.074219</td>\n",
       "      <td>56537.816406</td>\n",
       "      <td>55144.277344</td>\n",
       "      <td>56405.097656</td>\n",
       "      <td>1489278</td>\n",
       "    </tr>\n",
       "    <tr>\n",
       "      <th>...</th>\n",
       "      <td>...</td>\n",
       "      <td>...</td>\n",
       "      <td>...</td>\n",
       "      <td>...</td>\n",
       "      <td>...</td>\n",
       "      <td>...</td>\n",
       "    </tr>\n",
       "    <tr>\n",
       "      <th>59</th>\n",
       "      <td>2020-12-23</td>\n",
       "      <td>64699.964844</td>\n",
       "      <td>65363.554688</td>\n",
       "      <td>64301.812500</td>\n",
       "      <td>64699.964844</td>\n",
       "      <td>1004219</td>\n",
       "    </tr>\n",
       "    <tr>\n",
       "      <th>60</th>\n",
       "      <td>2020-12-24</td>\n",
       "      <td>64965.402344</td>\n",
       "      <td>64965.402344</td>\n",
       "      <td>63704.582031</td>\n",
       "      <td>64567.246094</td>\n",
       "      <td>1464353</td>\n",
       "    </tr>\n",
       "    <tr>\n",
       "      <th>61</th>\n",
       "      <td>2020-12-25</td>\n",
       "      <td>64368.171875</td>\n",
       "      <td>64766.324219</td>\n",
       "      <td>64169.093750</td>\n",
       "      <td>64766.324219</td>\n",
       "      <td>578609</td>\n",
       "    </tr>\n",
       "    <tr>\n",
       "      <th>62</th>\n",
       "      <td>2020-12-28</td>\n",
       "      <td>65031.757812</td>\n",
       "      <td>65164.476562</td>\n",
       "      <td>64567.246094</td>\n",
       "      <td>65031.757812</td>\n",
       "      <td>1259949</td>\n",
       "    </tr>\n",
       "    <tr>\n",
       "      <th>63</th>\n",
       "      <td>2020-12-29</td>\n",
       "      <td>65031.757812</td>\n",
       "      <td>66226.218750</td>\n",
       "      <td>64899.042969</td>\n",
       "      <td>65828.070312</td>\n",
       "      <td>1049609</td>\n",
       "    </tr>\n",
       "  </tbody>\n",
       "</table>\n",
       "<p>64 rows × 6 columns</p>\n",
       "</div>"
      ],
      "text/plain": [
       "     Datetime          Open          High           Low         Close   Volume\n",
       "0  2020-10-01  56471.457031  56471.457031  55874.226562  56272.378906   553097\n",
       "1  2020-10-02  56272.378906  56405.097656  53087.152344  55741.507812  1342455\n",
       "2  2020-10-05  56073.304688  56405.097656  55343.355469  55409.714844  1318201\n",
       "3  2020-10-06  55608.789062  56006.945312  55210.636719  55675.148438  5460016\n",
       "4  2020-10-07  55476.074219  56537.816406  55144.277344  56405.097656  1489278\n",
       "..        ...           ...           ...           ...           ...      ...\n",
       "59 2020-12-23  64699.964844  65363.554688  64301.812500  64699.964844  1004219\n",
       "60 2020-12-24  64965.402344  64965.402344  63704.582031  64567.246094  1464353\n",
       "61 2020-12-25  64368.171875  64766.324219  64169.093750  64766.324219   578609\n",
       "62 2020-12-28  65031.757812  65164.476562  64567.246094  65031.757812  1259949\n",
       "63 2020-12-29  65031.757812  66226.218750  64899.042969  65828.070312  1049609\n",
       "\n",
       "[64 rows x 6 columns]"
      ]
     },
     "execution_count": 8,
     "metadata": {},
     "output_type": "execute_result"
    }
   ],
   "source": [
    "data"
   ]
  },
  {
   "cell_type": "markdown",
   "metadata": {},
   "source": [
    "Normal Trading Strategy"
   ]
  },
  {
   "cell_type": "code",
   "execution_count": 9,
   "metadata": {},
   "outputs": [
    {
     "name": "stdout",
     "output_type": "stream",
     "text": [
      "                   Close           SMA         MACD  Signal_Line  Buy_Signal  \\\n",
      "Datetime                                                                       \n",
      "2020-10-28  55874.226562  57065.368750   174.923758   335.545735       False   \n",
      "2020-10-29  55476.074219  57025.553516    25.320898   273.500768       False   \n",
      "2020-10-30  55077.917969  56992.374023  -123.939628   194.012689       False   \n",
      "2020-11-02  56935.968750  57068.686719   -91.248644   136.960422       False   \n",
      "2020-11-03  56405.097656  57105.184180  -106.944870    88.179364       False   \n",
      "2020-11-04  56405.097656  57105.184180  -118.023738    46.938743       False   \n",
      "2020-11-05  56405.097656  57111.820117  -125.358763    12.479242       False   \n",
      "2020-11-06  56405.097656  57118.456055  -129.676987   -15.952004       False   \n",
      "2020-11-09  56736.890625  57105.184180  -105.114596   -33.784522       False   \n",
      "2020-11-10  56471.457031  57058.733008  -105.846860   -48.196990       False   \n",
      "2020-11-11  56338.738281  56949.240820  -115.801590   -61.717910       False   \n",
      "2020-11-12  57334.121094  56876.245898   -42.877446   -57.949817        True   \n",
      "2020-11-13  57665.917969  56833.112695    41.213613   -38.117131        True   \n",
      "2020-11-16  56935.968750  56776.707617    48.397684   -20.814168        True   \n",
      "2020-11-17  58130.429688  56773.389648   148.759321    13.100530        True   \n",
      "2020-11-18  58130.429688  56819.840820   225.694971    55.619418        True   \n",
      "2020-11-19  59855.761719  56939.286914   421.033492   128.702233        True   \n",
      "2020-11-20  61382.019531  57105.184375   691.031150   241.168016        True   \n",
      "2020-11-23  60784.789062  57290.989453   847.050461   362.344505        True   \n",
      "2020-11-24  61315.660156  57503.338086  1001.983507   490.272306        True   \n",
      "2020-11-25  62045.605469  57811.907031  1170.180438   626.253932        True   \n",
      "2020-11-26  62377.402344  58156.973437  1315.091397   764.021425        True   \n",
      "2020-11-27  62709.195312  58538.537305  1440.106642   899.238468        True   \n",
      "2020-11-30  61713.812500  58777.429492  1442.237831  1007.838341        True   \n",
      "2020-12-01  61050.222656  59009.685742  1374.535865  1081.177846        True   \n",
      "2020-12-02  62045.605469  59291.711133  1385.232545  1141.988786        True   \n",
      "2020-12-03  62045.605469  59573.736523  1377.827009  1189.156430        True   \n",
      "2020-12-04  60452.992188  59776.131250  1229.277145  1197.180573        True   \n",
      "2020-12-07  61780.171875  60028.295312  1204.754951  1198.695449        True   \n",
      "2020-12-09  64036.375000  60678.612891  1312.631809  1217.181530        True   \n",
      "2020-12-10  64500.886719  61036.951172  1445.056231  1262.756470        True   \n",
      "2020-12-11  64500.886719  61378.699609  1532.339681  1316.673112        True   \n",
      "2020-12-14  66292.578125  61846.530078  1726.188540  1398.576198        True   \n",
      "2020-12-15  64899.042969  62184.960742  1747.227565  1468.306471        True   \n",
      "2020-12-16  66292.578125  62593.068164  1854.964904  1545.638158        True   \n",
      "2020-12-17  63704.582031  62785.509180  1711.785468  1578.867620        True   \n",
      "2020-12-18  65628.992188  62997.857812  1733.614521  1609.817000        True   \n",
      "2020-12-21  65628.992188  63240.067969  1730.960764  1634.045753        True   \n",
      "2020-12-22  64965.402344  63422.555078  1656.219620  1638.480526        True   \n",
      "\n",
      "            Sell_Signal  \n",
      "Datetime                 \n",
      "2020-10-28         True  \n",
      "2020-10-29         True  \n",
      "2020-10-30         True  \n",
      "2020-11-02         True  \n",
      "2020-11-03         True  \n",
      "2020-11-04         True  \n",
      "2020-11-05         True  \n",
      "2020-11-06         True  \n",
      "2020-11-09         True  \n",
      "2020-11-10         True  \n",
      "2020-11-11         True  \n",
      "2020-11-12        False  \n",
      "2020-11-13        False  \n",
      "2020-11-16        False  \n",
      "2020-11-17        False  \n",
      "2020-11-18        False  \n",
      "2020-11-19        False  \n",
      "2020-11-20        False  \n",
      "2020-11-23        False  \n",
      "2020-11-24        False  \n",
      "2020-11-25        False  \n",
      "2020-11-26        False  \n",
      "2020-11-27        False  \n",
      "2020-11-30        False  \n",
      "2020-12-01        False  \n",
      "2020-12-02        False  \n",
      "2020-12-03        False  \n",
      "2020-12-04        False  \n",
      "2020-12-07        False  \n",
      "2020-12-09        False  \n",
      "2020-12-10        False  \n",
      "2020-12-11        False  \n",
      "2020-12-14        False  \n",
      "2020-12-15        False  \n",
      "2020-12-16        False  \n",
      "2020-12-17        False  \n",
      "2020-12-18        False  \n",
      "2020-12-21        False  \n",
      "2020-12-22        False  \n",
      "                   Close           SMA         MACD  Signal_Line  Buy_Signal  \\\n",
      "Datetime                                                                       \n",
      "2020-10-28  55874.226562  57065.368750   174.923758   335.545735       False   \n",
      "2020-10-29  55476.074219  57025.553516    25.320898   273.500768       False   \n",
      "2020-10-30  55077.917969  56992.374023  -123.939628   194.012689       False   \n",
      "2020-11-02  56935.968750  57068.686719   -91.248644   136.960422       False   \n",
      "2020-11-03  56405.097656  57105.184180  -106.944870    88.179364       False   \n",
      "2020-11-04  56405.097656  57105.184180  -118.023738    46.938743       False   \n",
      "2020-11-05  56405.097656  57111.820117  -125.358763    12.479242       False   \n",
      "2020-11-06  56405.097656  57118.456055  -129.676987   -15.952004       False   \n",
      "2020-11-09  56736.890625  57105.184180  -105.114596   -33.784522       False   \n",
      "2020-11-10  56471.457031  57058.733008  -105.846860   -48.196990       False   \n",
      "2020-11-11  56338.738281  56949.240820  -115.801590   -61.717910       False   \n",
      "2020-11-12  57334.121094  56876.245898   -42.877446   -57.949817        True   \n",
      "2020-11-13  57665.917969  56833.112695    41.213613   -38.117131        True   \n",
      "2020-11-16  56935.968750  56776.707617    48.397684   -20.814168        True   \n",
      "2020-11-17  58130.429688  56773.389648   148.759321    13.100530        True   \n",
      "2020-11-18  58130.429688  56819.840820   225.694971    55.619418        True   \n",
      "2020-11-19  59855.761719  56939.286914   421.033492   128.702233        True   \n",
      "2020-11-20  61382.019531  57105.184375   691.031150   241.168016        True   \n",
      "2020-11-23  60784.789062  57290.989453   847.050461   362.344505        True   \n",
      "2020-11-24  61315.660156  57503.338086  1001.983507   490.272306        True   \n",
      "2020-11-25  62045.605469  57811.907031  1170.180438   626.253932        True   \n",
      "2020-11-26  62377.402344  58156.973437  1315.091397   764.021425        True   \n",
      "2020-11-27  62709.195312  58538.537305  1440.106642   899.238468        True   \n",
      "2020-11-30  61713.812500  58777.429492  1442.237831  1007.838341        True   \n",
      "2020-12-01  61050.222656  59009.685742  1374.535865  1081.177846        True   \n",
      "2020-12-02  62045.605469  59291.711133  1385.232545  1141.988786        True   \n",
      "2020-12-03  62045.605469  59573.736523  1377.827009  1189.156430        True   \n",
      "2020-12-04  60452.992188  59776.131250  1229.277145  1197.180573        True   \n",
      "2020-12-07  61780.171875  60028.295312  1204.754951  1198.695449        True   \n",
      "2020-12-09  64036.375000  60678.612891  1312.631809  1217.181530        True   \n",
      "2020-12-10  64500.886719  61036.951172  1445.056231  1262.756470        True   \n",
      "2020-12-11  64500.886719  61378.699609  1532.339681  1316.673112        True   \n",
      "2020-12-14  66292.578125  61846.530078  1726.188540  1398.576198        True   \n",
      "2020-12-15  64899.042969  62184.960742  1747.227565  1468.306471        True   \n",
      "2020-12-16  66292.578125  62593.068164  1854.964904  1545.638158        True   \n",
      "2020-12-17  63704.582031  62785.509180  1711.785468  1578.867620        True   \n",
      "2020-12-18  65628.992188  62997.857812  1733.614521  1609.817000        True   \n",
      "2020-12-21  65628.992188  63240.067969  1730.960764  1634.045753        True   \n",
      "2020-12-22  64965.402344  63422.555078  1656.219620  1638.480526        True   \n",
      "\n",
      "            Sell_Signal  \n",
      "Datetime                 \n",
      "2020-10-28         True  \n",
      "2020-10-29         True  \n",
      "2020-10-30         True  \n",
      "2020-11-02         True  \n",
      "2020-11-03         True  \n",
      "2020-11-04         True  \n",
      "2020-11-05         True  \n",
      "2020-11-06         True  \n",
      "2020-11-09         True  \n",
      "2020-11-10         True  \n",
      "2020-11-11         True  \n",
      "2020-11-12        False  \n",
      "2020-11-13        False  \n",
      "2020-11-16        False  \n",
      "2020-11-17        False  \n",
      "2020-11-18        False  \n",
      "2020-11-19        False  \n",
      "2020-11-20        False  \n",
      "2020-11-23        False  \n",
      "2020-11-24        False  \n",
      "2020-11-25        False  \n",
      "2020-11-26        False  \n",
      "2020-11-27        False  \n",
      "2020-11-30        False  \n",
      "2020-12-01        False  \n",
      "2020-12-02        False  \n",
      "2020-12-03        False  \n",
      "2020-12-04        False  \n",
      "2020-12-07        False  \n",
      "2020-12-09        False  \n",
      "2020-12-10        False  \n",
      "2020-12-11        False  \n",
      "2020-12-14        False  \n",
      "2020-12-15        False  \n",
      "2020-12-16        False  \n",
      "2020-12-17        False  \n",
      "2020-12-18        False  \n",
      "2020-12-21        False  \n",
      "2020-12-22        False  \n"
     ]
    }
   ],
   "source": [
    "import pandas as pd\n",
    "import matplotlib.pyplot as plt\n",
    "import numpy as np\n",
    "\n",
    "# Giả sử DataFrame 'data' đã được tạo và chứa cột 'Datetime' và 'Close'\n",
    "# Thiết lập 'Datetime' làm chỉ mục của DataFrame\n",
    "data.set_index('Datetime', inplace=True)\n",
    "\n",
    "# Thiết lập cửa sổ thời gian cho SMA và độ lệch chuẩn\n",
    "window = 20\n",
    "\n",
    "# Tính toán SMA cho giá đóng cửa\n",
    "data['SMA'] = data['Close'].rolling(window=window).mean()\n",
    "\n",
    "# Tính toán MACD\n",
    "# EMA ngắn hạn\n",
    "data['short_ema'] = data['Close'].ewm(span=12, adjust=False).mean()\n",
    "# EMA dài hạn\n",
    "data['long_ema']  = data['Close'].ewm(span=26, adjust=False).mean()\n",
    "# Tính MACD\n",
    "data['MACD'] = data['short_ema']  - data['long_ema']\n",
    "# Tính Signal Line\n",
    "data['Signal_Line'] = data['MACD'].ewm(span=9, adjust=False).mean()\n",
    "\n",
    "# Tạo cột tín hiệu mua/bán\n",
    "data['Buy_Signal'] = (data['MACD'] > data['Signal_Line']) & (data['Close'] > data['SMA'])\n",
    "data['Sell_Signal'] = (data['MACD'] < data['Signal_Line']) & (data['Close'] < data['SMA'])\n",
    "\n",
    "# In ra các ngày có tín hiệu mua/ bán\n",
    "buysell_signals = data[(data['Buy_Signal'] == True) | (data['Sell_Signal'] == True)]\n",
    "print(buysell_signals[['Close', 'SMA', 'MACD', 'Signal_Line', 'Buy_Signal', 'Sell_Signal']])\n",
    "\n",
    "# In ra các ngày có tín hiệu mua/ bán\n",
    "buysell_signals = data[(data['Buy_Signal'] == True) | (data['Sell_Signal'] == True)]\n",
    "print(buysell_signals[['Close', 'SMA', 'MACD', 'Signal_Line', 'Buy_Signal', 'Sell_Signal']])\n",
    "\n",
    "data.to_csv('Buoi 11.2 Duong MACD va MA.csv')\n"
   ]
  },
  {
   "cell_type": "markdown",
   "metadata": {},
   "source": [
    "Alphacodium Generating Code"
   ]
  },
  {
   "cell_type": "code",
   "execution_count": 10,
   "metadata": {},
   "outputs": [
    {
     "name": "stdout",
     "output_type": "stream",
     "text": [
      "[*********************100%%**********************]  1 of 1 completed\n"
     ]
    }
   ],
   "source": [
    "symbol = 'VCB.VN'\n",
    "from_date = '2020-10-01'\n",
    "to_date = '2020-12-30'\n",
    "interval = '1d'\n",
    "data = loaddataYFinance(symbol, from_date, to_date, interval)"
   ]
  },
  {
   "cell_type": "code",
   "execution_count": 11,
   "metadata": {},
   "outputs": [],
   "source": [
    "\n",
    "import pandas as pd\n",
    "import numpy as np\n",
    "\n",
    "\n",
    "def handle_missing_values(data):\n",
    "    data = data.dropna()\n",
    "    return data\n",
    "\n",
    "def check_data_sufficiency(data, window_size):\n",
    "    if len(data) < window_size:\n",
    "        return pd.DataFrame()\n",
    "    return data\n",
    "\n",
    "def calculate_sma(data, window_size):\n",
    "    data['SMA'] = data['Close'].rolling(window_size).mean()\n",
    "    return data\n",
    "\n",
    "def calculate_ema(data, short_span, long_span):\n",
    "    data['Short_EMA'] = data['Close'].ewm(span=short_span, adjust=False).mean()\n",
    "    data['Long_EMA'] = data['Close'].ewm(span=long_span, adjust=False).mean()\n",
    "    return data\n",
    "\n",
    "def calculate_macd_and_signal_line(data, signal_span):\n",
    "    data['MACD'] = data['Short_EMA'] - data['Long_EMA']\n",
    "    data['Signal_Line'] = data['MACD'].ewm(span=signal_span, adjust=False).mean()\n",
    "    return data\n",
    "\n",
    "def generate_signals(data):\n",
    "    data['Buy_Signal'] = np.where((data['MACD'] > data['Signal_Line']) & (data['Close'] > data['SMA']), True, False)\n",
    "    data['Sell_Signal'] = np.where((data['MACD'] < data['Signal_Line']) & (data['Close'] < data['SMA']), True, False)\n",
    "    return data\n",
    "\n",
    "def format_output(data):\n",
    "    output = data[['Close', 'SMA', 'MACD', 'Signal_Line', 'Buy_Signal', 'Sell_Signal']]\n",
    "    return output\n"
   ]
  },
  {
   "cell_type": "code",
   "execution_count": 12,
   "metadata": {},
   "outputs": [
    {
     "name": "stdout",
     "output_type": "stream",
     "text": [
      "           Close           SMA         MACD  Signal_Line  Buy_Signal  \\\n",
      "0   56272.378906           NaN     0.000000     0.000000       False   \n",
      "1   55741.507812           NaN   -42.348691    -8.469738       False   \n",
      "2   55409.714844           NaN  -101.513074   -27.078405       False   \n",
      "3   55675.148438           NaN  -125.535902   -46.769905       False   \n",
      "4   56405.097656           NaN   -84.697029   -54.355330       False   \n",
      "..           ...           ...          ...          ...         ...   \n",
      "59  64699.964844  63555.273047  1557.612944  1622.307010       False   \n",
      "60  64567.246094  63664.765234  1452.019176  1588.249443       False   \n",
      "61  64766.324219  63767.621680  1368.622664  1544.324087       False   \n",
      "62  65031.757812  63933.518945  1308.860868  1497.231443       False   \n",
      "63  65828.070312  64172.411328  1310.646658  1459.914486       False   \n",
      "\n",
      "    Sell_Signal  \n",
      "0         False  \n",
      "1         False  \n",
      "2         False  \n",
      "3         False  \n",
      "4         False  \n",
      "..          ...  \n",
      "59        False  \n",
      "60        False  \n",
      "61        False  \n",
      "62        False  \n",
      "63        False  \n",
      "\n",
      "[64 rows x 6 columns]\n"
     ]
    }
   ],
   "source": [
    "\n",
    "if __name__ == \"__main__\":\n",
    "    data = handle_missing_values(data)\n",
    "    data = check_data_sufficiency(data, 20)\n",
    "    if not data.empty:\n",
    "        data = calculate_sma(data, 20)\n",
    "        data = calculate_ema(data, 12, 26)\n",
    "        data = calculate_macd_and_signal_line(data, 9)\n",
    "        data = generate_signals(data)\n",
    "        output = format_output(data)\n",
    "        print(output)"
   ]
  },
  {
   "cell_type": "code",
   "execution_count": 13,
   "metadata": {},
   "outputs": [
    {
     "data": {
      "text/html": [
       "<div>\n",
       "<style scoped>\n",
       "    .dataframe tbody tr th:only-of-type {\n",
       "        vertical-align: middle;\n",
       "    }\n",
       "\n",
       "    .dataframe tbody tr th {\n",
       "        vertical-align: top;\n",
       "    }\n",
       "\n",
       "    .dataframe thead th {\n",
       "        text-align: right;\n",
       "    }\n",
       "</style>\n",
       "<table border=\"1\" class=\"dataframe\">\n",
       "  <thead>\n",
       "    <tr style=\"text-align: right;\">\n",
       "      <th></th>\n",
       "      <th>Datetime</th>\n",
       "      <th>Open</th>\n",
       "      <th>High</th>\n",
       "      <th>Low</th>\n",
       "      <th>Close</th>\n",
       "      <th>Volume</th>\n",
       "      <th>SMA</th>\n",
       "      <th>Short_EMA</th>\n",
       "      <th>Long_EMA</th>\n",
       "      <th>MACD</th>\n",
       "      <th>Signal_Line</th>\n",
       "      <th>Buy_Signal</th>\n",
       "      <th>Sell_Signal</th>\n",
       "    </tr>\n",
       "  </thead>\n",
       "  <tbody>\n",
       "    <tr>\n",
       "      <th>0</th>\n",
       "      <td>2020-10-01</td>\n",
       "      <td>56471.457031</td>\n",
       "      <td>56471.457031</td>\n",
       "      <td>55874.226562</td>\n",
       "      <td>56272.378906</td>\n",
       "      <td>553097</td>\n",
       "      <td>NaN</td>\n",
       "      <td>56272.378906</td>\n",
       "      <td>56272.378906</td>\n",
       "      <td>0.000000</td>\n",
       "      <td>0.000000</td>\n",
       "      <td>False</td>\n",
       "      <td>False</td>\n",
       "    </tr>\n",
       "    <tr>\n",
       "      <th>1</th>\n",
       "      <td>2020-10-02</td>\n",
       "      <td>56272.378906</td>\n",
       "      <td>56405.097656</td>\n",
       "      <td>53087.152344</td>\n",
       "      <td>55741.507812</td>\n",
       "      <td>1342455</td>\n",
       "      <td>NaN</td>\n",
       "      <td>56190.706430</td>\n",
       "      <td>56233.055122</td>\n",
       "      <td>-42.348691</td>\n",
       "      <td>-8.469738</td>\n",
       "      <td>False</td>\n",
       "      <td>False</td>\n",
       "    </tr>\n",
       "    <tr>\n",
       "      <th>2</th>\n",
       "      <td>2020-10-05</td>\n",
       "      <td>56073.304688</td>\n",
       "      <td>56405.097656</td>\n",
       "      <td>55343.355469</td>\n",
       "      <td>55409.714844</td>\n",
       "      <td>1318201</td>\n",
       "      <td>NaN</td>\n",
       "      <td>56070.553879</td>\n",
       "      <td>56172.066953</td>\n",
       "      <td>-101.513074</td>\n",
       "      <td>-27.078405</td>\n",
       "      <td>False</td>\n",
       "      <td>False</td>\n",
       "    </tr>\n",
       "    <tr>\n",
       "      <th>3</th>\n",
       "      <td>2020-10-06</td>\n",
       "      <td>55608.789062</td>\n",
       "      <td>56006.945312</td>\n",
       "      <td>55210.636719</td>\n",
       "      <td>55675.148438</td>\n",
       "      <td>5460016</td>\n",
       "      <td>NaN</td>\n",
       "      <td>56009.722272</td>\n",
       "      <td>56135.258174</td>\n",
       "      <td>-125.535902</td>\n",
       "      <td>-46.769905</td>\n",
       "      <td>False</td>\n",
       "      <td>False</td>\n",
       "    </tr>\n",
       "    <tr>\n",
       "      <th>4</th>\n",
       "      <td>2020-10-07</td>\n",
       "      <td>55476.074219</td>\n",
       "      <td>56537.816406</td>\n",
       "      <td>55144.277344</td>\n",
       "      <td>56405.097656</td>\n",
       "      <td>1489278</td>\n",
       "      <td>NaN</td>\n",
       "      <td>56070.549254</td>\n",
       "      <td>56155.246284</td>\n",
       "      <td>-84.697029</td>\n",
       "      <td>-54.355330</td>\n",
       "      <td>False</td>\n",
       "      <td>False</td>\n",
       "    </tr>\n",
       "    <tr>\n",
       "      <th>...</th>\n",
       "      <td>...</td>\n",
       "      <td>...</td>\n",
       "      <td>...</td>\n",
       "      <td>...</td>\n",
       "      <td>...</td>\n",
       "      <td>...</td>\n",
       "      <td>...</td>\n",
       "      <td>...</td>\n",
       "      <td>...</td>\n",
       "      <td>...</td>\n",
       "      <td>...</td>\n",
       "      <td>...</td>\n",
       "      <td>...</td>\n",
       "    </tr>\n",
       "    <tr>\n",
       "      <th>59</th>\n",
       "      <td>2020-12-23</td>\n",
       "      <td>64699.964844</td>\n",
       "      <td>65363.554688</td>\n",
       "      <td>64301.812500</td>\n",
       "      <td>64699.964844</td>\n",
       "      <td>1004219</td>\n",
       "      <td>63555.273047</td>\n",
       "      <td>64444.584525</td>\n",
       "      <td>62886.971582</td>\n",
       "      <td>1557.612944</td>\n",
       "      <td>1622.307010</td>\n",
       "      <td>False</td>\n",
       "      <td>False</td>\n",
       "    </tr>\n",
       "    <tr>\n",
       "      <th>60</th>\n",
       "      <td>2020-12-24</td>\n",
       "      <td>64965.402344</td>\n",
       "      <td>64965.402344</td>\n",
       "      <td>63704.582031</td>\n",
       "      <td>64567.246094</td>\n",
       "      <td>1464353</td>\n",
       "      <td>63664.765234</td>\n",
       "      <td>64463.455536</td>\n",
       "      <td>63011.436360</td>\n",
       "      <td>1452.019176</td>\n",
       "      <td>1588.249443</td>\n",
       "      <td>False</td>\n",
       "      <td>False</td>\n",
       "    </tr>\n",
       "    <tr>\n",
       "      <th>61</th>\n",
       "      <td>2020-12-25</td>\n",
       "      <td>64368.171875</td>\n",
       "      <td>64766.324219</td>\n",
       "      <td>64169.093750</td>\n",
       "      <td>64766.324219</td>\n",
       "      <td>578609</td>\n",
       "      <td>63767.621680</td>\n",
       "      <td>64510.050718</td>\n",
       "      <td>63141.428054</td>\n",
       "      <td>1368.622664</td>\n",
       "      <td>1544.324087</td>\n",
       "      <td>False</td>\n",
       "      <td>False</td>\n",
       "    </tr>\n",
       "    <tr>\n",
       "      <th>62</th>\n",
       "      <td>2020-12-28</td>\n",
       "      <td>65031.757812</td>\n",
       "      <td>65164.476562</td>\n",
       "      <td>64567.246094</td>\n",
       "      <td>65031.757812</td>\n",
       "      <td>1259949</td>\n",
       "      <td>63933.518945</td>\n",
       "      <td>64590.313348</td>\n",
       "      <td>63281.452480</td>\n",
       "      <td>1308.860868</td>\n",
       "      <td>1497.231443</td>\n",
       "      <td>False</td>\n",
       "      <td>False</td>\n",
       "    </tr>\n",
       "    <tr>\n",
       "      <th>63</th>\n",
       "      <td>2020-12-29</td>\n",
       "      <td>65031.757812</td>\n",
       "      <td>66226.218750</td>\n",
       "      <td>64899.042969</td>\n",
       "      <td>65828.070312</td>\n",
       "      <td>1049609</td>\n",
       "      <td>64172.411328</td>\n",
       "      <td>64780.737496</td>\n",
       "      <td>63470.090838</td>\n",
       "      <td>1310.646658</td>\n",
       "      <td>1459.914486</td>\n",
       "      <td>False</td>\n",
       "      <td>False</td>\n",
       "    </tr>\n",
       "  </tbody>\n",
       "</table>\n",
       "<p>64 rows × 13 columns</p>\n",
       "</div>"
      ],
      "text/plain": [
       "     Datetime          Open          High           Low         Close  \\\n",
       "0  2020-10-01  56471.457031  56471.457031  55874.226562  56272.378906   \n",
       "1  2020-10-02  56272.378906  56405.097656  53087.152344  55741.507812   \n",
       "2  2020-10-05  56073.304688  56405.097656  55343.355469  55409.714844   \n",
       "3  2020-10-06  55608.789062  56006.945312  55210.636719  55675.148438   \n",
       "4  2020-10-07  55476.074219  56537.816406  55144.277344  56405.097656   \n",
       "..        ...           ...           ...           ...           ...   \n",
       "59 2020-12-23  64699.964844  65363.554688  64301.812500  64699.964844   \n",
       "60 2020-12-24  64965.402344  64965.402344  63704.582031  64567.246094   \n",
       "61 2020-12-25  64368.171875  64766.324219  64169.093750  64766.324219   \n",
       "62 2020-12-28  65031.757812  65164.476562  64567.246094  65031.757812   \n",
       "63 2020-12-29  65031.757812  66226.218750  64899.042969  65828.070312   \n",
       "\n",
       "     Volume           SMA     Short_EMA      Long_EMA         MACD  \\\n",
       "0    553097           NaN  56272.378906  56272.378906     0.000000   \n",
       "1   1342455           NaN  56190.706430  56233.055122   -42.348691   \n",
       "2   1318201           NaN  56070.553879  56172.066953  -101.513074   \n",
       "3   5460016           NaN  56009.722272  56135.258174  -125.535902   \n",
       "4   1489278           NaN  56070.549254  56155.246284   -84.697029   \n",
       "..      ...           ...           ...           ...          ...   \n",
       "59  1004219  63555.273047  64444.584525  62886.971582  1557.612944   \n",
       "60  1464353  63664.765234  64463.455536  63011.436360  1452.019176   \n",
       "61   578609  63767.621680  64510.050718  63141.428054  1368.622664   \n",
       "62  1259949  63933.518945  64590.313348  63281.452480  1308.860868   \n",
       "63  1049609  64172.411328  64780.737496  63470.090838  1310.646658   \n",
       "\n",
       "    Signal_Line  Buy_Signal  Sell_Signal  \n",
       "0      0.000000       False        False  \n",
       "1     -8.469738       False        False  \n",
       "2    -27.078405       False        False  \n",
       "3    -46.769905       False        False  \n",
       "4    -54.355330       False        False  \n",
       "..          ...         ...          ...  \n",
       "59  1622.307010       False        False  \n",
       "60  1588.249443       False        False  \n",
       "61  1544.324087       False        False  \n",
       "62  1497.231443       False        False  \n",
       "63  1459.914486       False        False  \n",
       "\n",
       "[64 rows x 13 columns]"
      ]
     },
     "execution_count": 13,
     "metadata": {},
     "output_type": "execute_result"
    }
   ],
   "source": [
    "data"
   ]
  },
  {
   "cell_type": "markdown",
   "metadata": {},
   "source": [
    "BACKTEST"
   ]
  },
  {
   "cell_type": "code",
   "execution_count": 14,
   "metadata": {},
   "outputs": [],
   "source": [
    "def backtest(data, initial_capital, shares_per_signal): # Chung khoan\n",
    "    import pandas as pd\n",
    "    import matplotlib.pyplot as plt\n",
    "    import plotly.graph_objects as go\n",
    "    import plotly.express as px\n",
    "\n",
    "    capital = initial_capital\n",
    "    shares_held = 0\n",
    "\n",
    "        # Xác định vị thế mua/ bán\n",
    "    data['Position_Buy'] = data['Buy_Signal'].shift()\n",
    "    data['Position_Sell'] = data['Sell_Signal'].shift()\n",
    "\n",
    "    data['Trade_Action'] = ''\n",
    "    data['Capital'] = capital\n",
    "    data['Shares_Held'] = shares_held\n",
    "\n",
    "        # Lặp qua mỗi hàng trong DataFrame\n",
    "    for index, row in data.iterrows():\n",
    "            # Nếu có tín hiệu mua và có đủ vốn để mua\n",
    "        if row['Position_Buy'] == 1 and capital >= row['Close'] * shares_per_signal and row['Trade_Action'] == '':\n",
    "                # Mua cổ phiếu và cập nhật vốn và số cổ phiếu được giữ\n",
    "            data.at[index, 'Trade_Action'] = 'Buy'\n",
    "            capital -= row['Close'] * shares_per_signal\n",
    "            data.at[index, 'Capital'] = capital\n",
    "            shares_held += shares_per_signal\n",
    "            data.at[index, 'Shares_Held'] = shares_held\n",
    "        elif row['Position_Sell'] == 1 and shares_held > 0 and row['Trade_Action'] == '':\n",
    "            data.at[index, 'Trade_Action'] = 'Sell'\n",
    "            capital += row['Close'] * shares_held\n",
    "            data.at[index, 'Capital'] = capital\n",
    "            shares_held = 0\n",
    "            data.at[index, 'Shares_Held'] = shares_held  # Giảm số lượng cổ phiếu 0\n",
    "        else:\n",
    "            data.at[index, 'Capital'] = capital\n",
    "            data.at[index, 'Shares_Held'] = shares_held\n",
    "\n",
    "            # Cập nhật giá trị hiện tại của vốn dựa trên số cổ phiếu đang giữ và giá đóng cửa hiện tại\n",
    "        current_value = capital + shares_held * row['Close']\n",
    "\n",
    "        # Ngày vào lệnh\n",
    "    first_entry_date = data[data['Position_Buy'] == 1].index.min()\n",
    "        # Tính lợi nhuận\n",
    "    profit = current_value - initial_capital\n",
    "        # Tính lợi nhuận thị trường\n",
    "    market_return = (data['Close'].iloc[-1] - data['Close'].iloc[0]) / data['Close'].iloc[0]\n",
    "        # Tính lợi nhuận chiến lược\n",
    "    strategy_return = (current_value - initial_capital) / initial_capital\n",
    "\n",
    "    print(f\"Ngày vào lệnh đầu tiên: {first_entry_date}\")\n",
    "    print(f'Tổng lợi nhuận: {profit}')\n",
    "    print(f'Tổng giá trị tài khoản: {current_value}')\n",
    "    print(f'Lợi nhuận thị trường: {market_return * 100}%')\n",
    "    print(f'Lợi nhuận chiến lược: {strategy_return * 100}%')\n",
    "\n",
    "        # Tính toán lợi nhuận thị trường và chiến lược\n",
    "    data['Market_Return'] = data['Close'].pct_change()\n",
    "    data['Cumulative_Market_Returns'] = (1 + data['Market_Return']).cumprod()\n",
    "\n",
    "        # Tính toán lợi nhuận lũy kế từ chiến lược\n",
    "    data['Strategy_Value'] = data['Capital'] + data['Shares_Held'] * data['Close']\n",
    "    data['Cumulative_Strategy_Returns'] = data['Strategy_Value'] / initial_capital\n",
    "\n",
    "\n",
    "        # Vẽ biểu đồ so sánh lợi nhuận lũy kế từ thị trường và từ chiến lược\n",
    "    plt.figure(figsize=(12, 6))\n",
    "    plt.plot(data['Cumulative_Market_Returns'], label='Market Returns')\n",
    "    plt.plot(data['Cumulative_Strategy_Returns'], label='Strategy Returns')\n",
    "    plt.title('Comparison of Cumulative Returns: Market vs Strategy')\n",
    "    plt.xlabel('Date')\n",
    "    plt.ylabel('Cumulative Returns')\n",
    "    plt.legend()\n",
    "    plt.show()\n",
    "\n",
    "        # Tạo biểu đồ sử dụng Plotly\n",
    "    fig = go.Figure()\n",
    "    fig.add_trace(go.Scatter(x=data.index, y=data['Cumulative_Market_Returns'], mode='lines', name='Market Returns'))\n",
    "    fig.add_trace(go.Scatter(x=data.index, y=data['Cumulative_Strategy_Returns'], mode='lines', name='Strategy Returns'))\n",
    "\n",
    "    fig.update_layout(\n",
    "        title='Comparison of Cumulative Returns: Market vs Strategy',\n",
    "        xaxis_title='Date',\n",
    "        yaxis_title='Cumulative Returns',\n",
    "    )\n",
    "    fig.show()\n",
    "    return data"
   ]
  },
  {
   "cell_type": "code",
   "execution_count": 15,
   "metadata": {},
   "outputs": [
    {
     "name": "stderr",
     "output_type": "stream",
     "text": [
      "C:\\Users\\ASUS VN\\AppData\\Local\\Temp\\ipykernel_25168\\2407345360.py:25: FutureWarning: Setting an item of incompatible dtype is deprecated and will raise in a future error of pandas. Value '94233408.203125' has dtype incompatible with int64, please explicitly cast to a compatible dtype first.\n",
      "  data.at[index, 'Capital'] = capital\n"
     ]
    },
    {
     "name": "stdout",
     "output_type": "stream",
     "text": [
      "Ngày vào lệnh đầu tiên: 31\n",
      "Tổng lợi nhuận: 8460770.703125\n",
      "Tổng giá trị tài khoản: 108460770.703125\n",
      "Lợi nhuận thị trường: 16.981139933980433%\n",
      "Lợi nhuận chiến lược: 8.460770703125%\n"
     ]
    },
    {
     "data": {
      "image/png": "[encoded data removed]",
      "text/plain": [
       "<Figure size 1200x600 with 1 Axes>"
      ]
     },
     "metadata": {},
     "output_type": "display_data"
    },
    {
     "data": {
      "application/vnd.plotly.v1+json": {
       "config": {
        "plotlyServerURL": "https://plot.ly"
       },
       "data": [
        {
         "mode": "lines",
         "name": "Market Returns",
         "type": "scatter",
         "x": [
          0,
          1,
          2,
          3,
          4,
          5,
          6,
          7,
          8,
          9,
          10,
          11,
          12,
          13,
          14,
          15,
          16,
          17,
          18,
          19,
          20,
          21,
          22,
          23,
          24,
          25,
          26,
          27,
          28,
          29,
          30,
          31,
          32,
          33,
          34,
          35,
          36,
          37,
          38,
          39,
          40,
          41,
          42,
          43,
          44,
          45,
          46,
          47,
          48,
          49,
          50,
          51,
          52,
          53,
          54,
          55,
          56,
          57,
          58,
          59,
          60,
          61,
          62,
          63
         ],
         "y": [
          null,
          0.9905660449394821,
          0.9846698490579686,
          0.9893867918798139,
          1.0023585061193363,
          1,
          1,
          1.0129717142395223,
          1.020047163180704,
          1.040094326361408,
          1.0448113386000804,
          1.0400943263614078,
          1.031839624360558,
          1.0341981304798944,
          1.0165094734185267,
          1.0212264162403721,
          1.031839624360558,
          1.0141509672991904,
          1.0141509672991904,
          0.9929245510588182,
          0.9858491021176365,
          0.9787735837596278,
          1.011792461179854,
          1.002358506119336,
          1.002358506119336,
          1.002358506119336,
          1.002358506119336,
          1.0082547020008497,
          1.0035377591790042,
          1.001179253059668,
          1.0188679101210358,
          1.0247641754193766,
          1.0117924611798543,
          1.0330188774202265,
          1.0330188774202265,
          1.0636792487211166,
          1.0908019302598295,
          1.0801887221396436,
          1.0896226772001614,
          1.1025943220228567,
          1.1084905873211972,
          1.1143867832027108,
          1.096698126141343,
          1.084905664961489,
          1.1025943220228567,
          1.1025943220228567,
          1.0742924568413028,
          1.0978773792010112,
          1.0978773792010112,
          1.1379717055624192,
          1.146226407563269,
          1.146226407563269,
          1.1780660319238274,
          1.153301925921278,
          1.1780660319238274,
          1.1320755096809059,
          1.1662736401608005,
          1.1662736401608005,
          1.1544811789809462,
          1.1497641667422736,
          1.1474056606229373,
          1.1509434198019415,
          1.155660362623787,
          1.1698113993398045
         ]
        },
        {
         "mode": "lines",
         "name": "Strategy Returns",
         "type": "scatter",
         "x": [
          0,
          1,
          2,
          3,
          4,
          5,
          6,
          7,
          8,
          9,
          10,
          11,
          12,
          13,
          14,
          15,
          16,
          17,
          18,
          19,
          20,
          21,
          22,
          23,
          24,
          25,
          26,
          27,
          28,
          29,
          30,
          31,
          32,
          33,
          34,
          35,
          36,
          37,
          38,
          39,
          40,
          41,
          42,
          43,
          44,
          45,
          46,
          47,
          48,
          49,
          50,
          51,
          52,
          53,
          54,
          55,
          56,
          57,
          58,
          59,
          60,
          61,
          62,
          63
         ],
         "y": [
          1,
          1,
          1,
          1,
          1,
          1,
          1,
          1,
          1,
          1,
          1,
          1,
          1,
          1,
          1,
          1,
          1,
          1,
          1,
          1,
          1,
          1,
          1,
          1,
          1,
          1,
          1,
          1,
          1,
          1,
          1,
          1,
          0.99927005078125,
          1.00165897265625,
          1.00165897265625,
          1.00856030078125,
          1.01619158984375,
          1.01260820703125,
          1.0163243046875,
          1.0221638671875,
          1.0251500390625,
          1.02846796875,
          1.0175187578125,
          1.0095556796875,
          1.02249565625,
          1.02249565625,
          0.99860645703125,
          1.01984133203125,
          1.01984133203125,
          1.05594058203125,
          1.06337276953125,
          1.06337276953125,
          1.09203983203125,
          1.06974326953125,
          1.09203983203125,
          1.05063189453125,
          1.08142245703125,
          1.08142245703125,
          1.07080501953125,
          1.06655801953125,
          1.06443451953125,
          1.06761976953125,
          1.07186670703125,
          1.08460770703125
         ]
        }
       ],
       "layout": {
        "template": {
         "data": {
          "bar": [
           {
            "error_x": {
             "color": "#2a3f5f"
            },
            "error_y": {
             "color": "#2a3f5f"
            },
            "marker": {
             "line": {
              "color": "#E5ECF6",
              "width": 0.5
             },
             "pattern": {
              "fillmode": "overlay",
              "size": 10,
              "solidity": 0.2
             }
            },
            "type": "bar"
           }
          ],
          "barpolar": [
           {
            "marker": {
             "line": {
              "color": "#E5ECF6",
              "width": 0.5
             },
             "pattern": {
              "fillmode": "overlay",
              "size": 10,
              "solidity": 0.2
             }
            },
            "type": "barpolar"
           }
          ],
          "carpet": [
           {
            "aaxis": {
             "endlinecolor": "#2a3f5f",
             "gridcolor": "white",
             "linecolor": "white",
             "minorgridcolor": "white",
             "startlinecolor": "#2a3f5f"
            },
            "baxis": {
             "endlinecolor": "#2a3f5f",
             "gridcolor": "white",
             "linecolor": "white",
             "minorgridcolor": "white",
             "startlinecolor": "#2a3f5f"
            },
            "type": "carpet"
           }
          ],
          "choropleth": [
           {
            "colorbar": {
             "outlinewidth": 0,
             "ticks": ""
            },
            "type": "choropleth"
           }
          ],
          "contour": [
           {
            "colorbar": {
             "outlinewidth": 0,
             "ticks": ""
            },
            "colorscale": [
             [
              0,
              "#0d0887"
             ],
             [
              0.1111111111111111,
              "#46039f"
             ],
             [
              0.2222222222222222,
              "#7201a8"
             ],
             [
              0.3333333333333333,
              "#9c179e"
             ],
             [
              0.4444444444444444,
              "#bd3786"
             ],
             [
              0.5555555555555556,
              "#d8576b"
             ],
             [
              0.6666666666666666,
              "#ed7953"
             ],
             [
              0.7777777777777778,
              "#fb9f3a"
             ],
             [
              0.8888888888888888,
              "#fdca26"
             ],
             [
              1,
              "#f0f921"
             ]
            ],
            "type": "contour"
           }
          ],
          "contourcarpet": [
           {
            "colorbar": {
             "outlinewidth": 0,
             "ticks": ""
            },
            "type": "contourcarpet"
           }
          ],
          "heatmap": [
           {
            "colorbar": {
             "outlinewidth": 0,
             "ticks": ""
            },
            "colorscale": [
             [
              0,
              "#0d0887"
             ],
             [
              0.1111111111111111,
              "#46039f"
             ],
             [
              0.2222222222222222,
              "#7201a8"
             ],
             [
              0.3333333333333333,
              "#9c179e"
             ],
             [
              0.4444444444444444,
              "#bd3786"
             ],
             [
              0.5555555555555556,
              "#d8576b"
             ],
             [
              0.6666666666666666,
              "#ed7953"
             ],
             [
              0.7777777777777778,
              "#fb9f3a"
             ],
             [
              0.8888888888888888,
              "#fdca26"
             ],
             [
              1,
              "#f0f921"
             ]
            ],
            "type": "heatmap"
           }
          ],
          "heatmapgl": [
           {
            "colorbar": {
             "outlinewidth": 0,
             "ticks": ""
            },
            "colorscale": [
             [
              0,
              "#0d0887"
             ],
             [
              0.1111111111111111,
              "#46039f"
             ],
             [
              0.2222222222222222,
              "#7201a8"
             ],
             [
              0.3333333333333333,
              "#9c179e"
             ],
             [
              0.4444444444444444,
              "#bd3786"
             ],
             [
              0.5555555555555556,
              "#d8576b"
             ],
             [
              0.6666666666666666,
              "#ed7953"
             ],
             [
              0.7777777777777778,
              "#fb9f3a"
             ],
             [
              0.8888888888888888,
              "#fdca26"
             ],
             [
              1,
              "#f0f921"
             ]
            ],
            "type": "heatmapgl"
           }
          ],
          "histogram": [
           {
            "marker": {
             "pattern": {
              "fillmode": "overlay",
              "size": 10,
              "solidity": 0.2
             }
            },
            "type": "histogram"
           }
          ],
          "histogram2d": [
           {
            "colorbar": {
             "outlinewidth": 0,
             "ticks": ""
            },
            "colorscale": [
             [
              0,
              "#0d0887"
             ],
             [
              0.1111111111111111,
              "#46039f"
             ],
             [
              0.2222222222222222,
              "#7201a8"
             ],
             [
              0.3333333333333333,
              "#9c179e"
             ],
             [
              0.4444444444444444,
              "#bd3786"
             ],
             [
              0.5555555555555556,
              "#d8576b"
             ],
             [
              0.6666666666666666,
              "#ed7953"
             ],
             [
              0.7777777777777778,
              "#fb9f3a"
             ],
             [
              0.8888888888888888,
              "#fdca26"
             ],
             [
              1,
              "#f0f921"
             ]
            ],
            "type": "histogram2d"
           }
          ],
          "histogram2dcontour": [
           {
            "colorbar": {
             "outlinewidth": 0,
             "ticks": ""
            },
            "colorscale": [
             [
              0,
              "#0d0887"
             ],
             [
              0.1111111111111111,
              "#46039f"
             ],
             [
              0.2222222222222222,
              "#7201a8"
             ],
             [
              0.3333333333333333,
              "#9c179e"
             ],
             [
              0.4444444444444444,
              "#bd3786"
             ],
             [
              0.5555555555555556,
              "#d8576b"
             ],
             [
              0.6666666666666666,
              "#ed7953"
             ],
             [
              0.7777777777777778,
              "#fb9f3a"
             ],
             [
              0.8888888888888888,
              "#fdca26"
             ],
             [
              1,
              "#f0f921"
             ]
            ],
            "type": "histogram2dcontour"
           }
          ],
          "mesh3d": [
           {
            "colorbar": {
             "outlinewidth": 0,
             "ticks": ""
            },
            "type": "mesh3d"
           }
          ],
          "parcoords": [
           {
            "line": {
             "colorbar": {
              "outlinewidth": 0,
              "ticks": ""
             }
            },
            "type": "parcoords"
           }
          ],
          "pie": [
           {
            "automargin": true,
            "type": "pie"
           }
          ],
          "scatter": [
           {
            "fillpattern": {
             "fillmode": "overlay",
             "size": 10,
             "solidity": 0.2
            },
            "type": "scatter"
           }
          ],
          "scatter3d": [
           {
            "line": {
             "colorbar": {
              "outlinewidth": 0,
              "ticks": ""
             }
            },
            "marker": {
             "colorbar": {
              "outlinewidth": 0,
              "ticks": ""
             }
            },
            "type": "scatter3d"
           }
          ],
          "scattercarpet": [
           {
            "marker": {
             "colorbar": {
              "outlinewidth": 0,
              "ticks": ""
             }
            },
            "type": "scattercarpet"
           }
          ],
          "scattergeo": [
           {
            "marker": {
             "colorbar": {
              "outlinewidth": 0,
              "ticks": ""
             }
            },
            "type": "scattergeo"
           }
          ],
          "scattergl": [
           {
            "marker": {
             "colorbar": {
              "outlinewidth": 0,
              "ticks": ""
             }
            },
            "type": "scattergl"
           }
          ],
          "scattermapbox": [
           {
            "marker": {
             "colorbar": {
              "outlinewidth": 0,
              "ticks": ""
             }
            },
            "type": "scattermapbox"
           }
          ],
          "scatterpolar": [
           {
            "marker": {
             "colorbar": {
              "outlinewidth": 0,
              "ticks": ""
             }
            },
            "type": "scatterpolar"
           }
          ],
          "scatterpolargl": [
           {
            "marker": {
             "colorbar": {
              "outlinewidth": 0,
              "ticks": ""
             }
            },
            "type": "scatterpolargl"
           }
          ],
          "scatterternary": [
           {
            "marker": {
             "colorbar": {
              "outlinewidth": 0,
              "ticks": ""
             }
            },
            "type": "scatterternary"
           }
          ],
          "surface": [
           {
            "colorbar": {
             "outlinewidth": 0,
             "ticks": ""
            },
            "colorscale": [
             [
              0,
              "#0d0887"
             ],
             [
              0.1111111111111111,
              "#46039f"
             ],
             [
              0.2222222222222222,
              "#7201a8"
             ],
             [
              0.3333333333333333,
              "#9c179e"
             ],
             [
              0.4444444444444444,
              "#bd3786"
             ],
             [
              0.5555555555555556,
              "#d8576b"
             ],
             [
              0.6666666666666666,
              "#ed7953"
             ],
             [
              0.7777777777777778,
              "#fb9f3a"
             ],
             [
              0.8888888888888888,
              "#fdca26"
             ],
             [
              1,
              "#f0f921"
             ]
            ],
            "type": "surface"
           }
          ],
          "table": [
           {
            "cells": {
             "fill": {
              "color": "#EBF0F8"
             },
             "line": {
              "color": "white"
             }
            },
            "header": {
             "fill": {
              "color": "#C8D4E3"
             },
             "line": {
              "color": "white"
             }
            },
            "type": "table"
           }
          ]
         },
         "layout": {
          "annotationdefaults": {
           "arrowcolor": "#2a3f5f",
           "arrowhead": 0,
           "arrowwidth": 1
          },
          "autotypenumbers": "strict",
          "coloraxis": {
           "colorbar": {
            "outlinewidth": 0,
            "ticks": ""
           }
          },
          "colorscale": {
           "diverging": [
            [
             0,
             "#8e0152"
            ],
            [
             0.1,
             "#c51b7d"
            ],
            [
             0.2,
             "#de77ae"
            ],
            [
             0.3,
             "#f1b6da"
            ],
            [
             0.4,
             "#fde0ef"
            ],
            [
             0.5,
             "#f7f7f7"
            ],
            [
             0.6,
             "#e6f5d0"
            ],
            [
             0.7,
             "#b8e186"
            ],
            [
             0.8,
             "#7fbc41"
            ],
            [
             0.9,
             "#4d9221"
            ],
            [
             1,
             "#276419"
            ]
           ],
           "sequential": [
            [
             0,
             "#0d0887"
            ],
            [
             0.1111111111111111,
             "#46039f"
            ],
            [
             0.2222222222222222,
             "#7201a8"
            ],
            [
             0.3333333333333333,
             "#9c179e"
            ],
            [
             0.4444444444444444,
             "#bd3786"
            ],
            [
             0.5555555555555556,
             "#d8576b"
            ],
            [
             0.6666666666666666,
             "#ed7953"
            ],
            [
             0.7777777777777778,
             "#fb9f3a"
            ],
            [
             0.8888888888888888,
             "#fdca26"
            ],
            [
             1,
             "#f0f921"
            ]
           ],
           "sequentialminus": [
            [
             0,
             "#0d0887"
            ],
            [
             0.1111111111111111,
             "#46039f"
            ],
            [
             0.2222222222222222,
             "#7201a8"
            ],
            [
             0.3333333333333333,
             "#9c179e"
            ],
            [
             0.4444444444444444,
             "#bd3786"
            ],
            [
             0.5555555555555556,
             "#d8576b"
            ],
            [
             0.6666666666666666,
             "#ed7953"
            ],
            [
             0.7777777777777778,
             "#fb9f3a"
            ],
            [
             0.8888888888888888,
             "#fdca26"
            ],
            [
             1,
             "#f0f921"
            ]
           ]
          },
          "colorway": [
           "#636efa",
           "#EF553B",
           "#00cc96",
           "#ab63fa",
           "#FFA15A",
           "#19d3f3",
           "#FF6692",
           "#B6E880",
           "#FF97FF",
           "#FECB52"
          ],
          "font": {
           "color": "#2a3f5f"
          },
          "geo": {
           "bgcolor": "white",
           "lakecolor": "white",
           "landcolor": "#E5ECF6",
           "showlakes": true,
           "showland": true,
           "subunitcolor": "white"
          },
          "hoverlabel": {
           "align": "left"
          },
          "hovermode": "closest",
          "mapbox": {
           "style": "light"
          },
          "paper_bgcolor": "white",
          "plot_bgcolor": "#E5ECF6",
          "polar": {
           "angularaxis": {
            "gridcolor": "white",
            "linecolor": "white",
            "ticks": ""
           },
           "bgcolor": "#E5ECF6",
           "radialaxis": {
            "gridcolor": "white",
            "linecolor": "white",
            "ticks": ""
           }
          },
          "scene": {
           "xaxis": {
            "backgroundcolor": "#E5ECF6",
            "gridcolor": "white",
            "gridwidth": 2,
            "linecolor": "white",
            "showbackground": true,
            "ticks": "",
            "zerolinecolor": "white"
           },
           "yaxis": {
            "backgroundcolor": "#E5ECF6",
            "gridcolor": "white",
            "gridwidth": 2,
            "linecolor": "white",
            "showbackground": true,
            "ticks": "",
            "zerolinecolor": "white"
           },
           "zaxis": {
            "backgroundcolor": "#E5ECF6",
            "gridcolor": "white",
            "gridwidth": 2,
            "linecolor": "white",
            "showbackground": true,
            "ticks": "",
            "zerolinecolor": "white"
           }
          },
          "shapedefaults": {
           "line": {
            "color": "#2a3f5f"
           }
          },
          "ternary": {
           "aaxis": {
            "gridcolor": "white",
            "linecolor": "white",
            "ticks": ""
           },
           "baxis": {
            "gridcolor": "white",
            "linecolor": "white",
            "ticks": ""
           },
           "bgcolor": "#E5ECF6",
           "caxis": {
            "gridcolor": "white",
            "linecolor": "white",
            "ticks": ""
           }
          },
          "title": {
           "x": 0.05
          },
          "xaxis": {
           "automargin": true,
           "gridcolor": "white",
           "linecolor": "white",
           "ticks": "",
           "title": {
            "standoff": 15
           },
           "zerolinecolor": "white",
           "zerolinewidth": 2
          },
          "yaxis": {
           "automargin": true,
           "gridcolor": "white",
           "linecolor": "white",
           "ticks": "",
           "title": {
            "standoff": 15
           },
           "zerolinecolor": "white",
           "zerolinewidth": 2
          }
         }
        },
        "title": {
         "text": "Comparison of Cumulative Returns: Market vs Strategy"
        },
        "xaxis": {
         "title": {
          "text": "Date"
         }
        },
        "yaxis": {
         "title": {
          "text": "Cumulative Returns"
         }
        }
       }
      }
     },
     "metadata": {},
     "output_type": "display_data"
    }
   ],
   "source": [
    "# initial_capital, shares_per_signal\n",
    "\n",
    "backtest = backtest(data, 100000000, 100)\n",
    "backtest.to_csv('data_out_backtest.csv')"
   ]
  },
  {
   "cell_type": "markdown",
   "metadata": {},
   "source": [
    "Alphacodium Backtest"
   ]
  },
  {
   "cell_type": "code",
   "execution_count": 16,
   "metadata": {},
   "outputs": [],
   "source": [
    "#backtest\n",
    "import pandas as pd\n",
    "import numpy as np\n",
    "\n",
    "def initialize_variables(initial_capital):\n",
    "    capital = initial_capital\n",
    "    shares_held = 0\n",
    "    return capital, shares_held\n",
    "\n",
    "def add_new_columns(data, initial_capital, shares_held):\n",
    "    if 'Buy_Signal' not in data.columns or 'Sell_Signal' not in data.columns:\n",
    "        raise ValueError(\"Input data must contain 'Buy_Signal' and 'Sell_Signal' columns.\")\n",
    "    data['Position_Buy'] = data['Buy_Signal'].shift()\n",
    "    data['Position_Sell'] = data['Sell_Signal'].shift()\n",
    "    data['Trade_Action'] = ''\n",
    "    data['Capital'] = initial_capital\n",
    "    data['Shares_Held'] = shares_held\n",
    "    return data\n",
    "\n",
    "def iterate_rows(data, capital, shares_held, shares_per_signal):\n",
    "    for i in data.index:\n",
    "        if data.loc[i, 'Position_Buy'] == 1 and capital >= data.loc[i, 'Close'] * shares_per_signal and data.loc[i, 'Trade_Action'] == '':\n",
    "            data.loc[i, 'Trade_Action'] = 'Buy'\n",
    "            capital -= data.loc[i, 'Close'] * shares_per_signal\n",
    "            shares_held += shares_per_signal\n",
    "        elif data.loc[i, 'Position_Sell'] == 1 and shares_held > 0 and data.loc[i, 'Trade_Action'] == '':\n",
    "            data.loc[i, 'Trade_Action'] = 'Sell'\n",
    "            capital += data.loc[i, 'Close'] * shares_held\n",
    "            shares_held = 0\n",
    "        data.loc[i, 'Capital'] = capital\n",
    "        data.loc[i, 'Shares_Held'] = shares_held\n",
    "    return data, capital, shares_held\n",
    "\n",
    "def calculate_current_value(data):\n",
    "    data['Current_Value'] = data['Capital'] + data['Shares_Held'] * data['Close']\n",
    "    return data\n",
    "\n",
    "def calculate_returns(data, initial_capital):\n",
    "    if initial_capital == 0:\n",
    "        raise ValueError(\"Initial capital cannot be zero.\")\n",
    "    data['Market_Return'] = data['Close'].pct_change()\n",
    "    data['Cumulative_Market_Returns'] = (1 + data['Market_Return']).cumprod() - 1\n",
    "    data['Strategy_Value'] = data['Capital'] + data['Shares_Held'] * data['Close']\n",
    "    data['Cumulative_Strategy_Returns'] = data['Strategy_Value'] / initial_capital - 1\n",
    "    return data\n",
    "\n",
    "def print_summary_statistics(data, initial_capital):\n",
    "    try:\n",
    "        first_entry_date = data[data['Trade_Action'] == 'Buy'].index.min()\n",
    "        profit = data['Current_Value'].iloc[-1] - initial_capital\n",
    "        total_account_value = data['Current_Value'].iloc[-1]\n",
    "        market_return = data['Market_Return'].sum() * 100\n",
    "        strategy_return = profit / initial_capital * 100\n",
    "        print('first_entry_date:',first_entry_date)\n",
    "        print('profit:',profit)\n",
    "        print(total_account_value)\n",
    "        print(f'{market_return}%')\n",
    "        print(f'{strategy_return}%')\n",
    "    except Exception as e:\n",
    "        print(\"Cannot calculate summary statistics due to missing or invalid data.\")\n",
    "\n",
    "def backtest(data, initial_capital, shares_per_signal):\n",
    "    if data.empty or 'Close' not in data.columns:\n",
    "        raise ValueError(\"Input data must not be empty and must contain a 'Close' column.\")\n",
    "    data = data.dropna(subset=['Close'])\n",
    "    capital, shares_held = initialize_variables(initial_capital)\n",
    "    data = add_new_columns(data, capital, shares_held)\n",
    "    data, capital, shares_held = iterate_rows(data, capital, shares_held, shares_per_signal)\n",
    "    data = calculate_current_value(data)\n",
    "    data = calculate_returns(data, initial_capital)\n",
    "    print_summary_statistics(data, initial_capital)\n",
    "    return data\n"
   ]
  },
  {
   "cell_type": "code",
   "execution_count": 17,
   "metadata": {},
   "outputs": [
    {
     "name": "stdout",
     "output_type": "stream",
     "text": [
      "first_entry_date: 31\n",
      "profit: 8460770.703125\n",
      "108460770.703125\n",
      "16.380423949839184%\n",
      "8.460770703125%\n"
     ]
    }
   ],
   "source": [
    "\n",
    "if __name__ == \"__main__\":\n",
    "    data = data.copy()\n",
    "    initial_capital = float(100000000)\n",
    "    shares_per_signal = int(100)\n",
    "    backtest(data, initial_capital, shares_per_signal)"
   ]
  }
 ],
 "metadata": {
  "kernelspec": {
   "display_name": "Python 3",
   "language": "python",
   "name": "python3"
  },
  "language_info": {
   "codemirror_mode": {
    "name": "ipython",
    "version": 3
   },
   "file_extension": ".py",
   "mimetype": "text/x-python",
   "name": "python",
   "nbconvert_exporter": "python",
   "pygments_lexer": "ipython3",
   "version": "3.11.5"
  }
 },
 "nbformat": 4,
 "nbformat_minor": 2
}
